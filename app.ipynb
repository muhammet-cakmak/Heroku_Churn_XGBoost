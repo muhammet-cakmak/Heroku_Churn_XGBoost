{
 "cells": [
  {
   "cell_type": "code",
   "execution_count": 1,
   "metadata": {},
   "outputs": [
    {
     "name": "stderr",
     "output_type": "stream",
     "text": [
      "/opt/anaconda3/lib/python3.7/site-packages/sklearn/externals/joblib/__init__.py:15: DeprecationWarning: sklearn.externals.joblib is deprecated in 0.21 and will be removed in 0.23. Please import this functionality directly from joblib, which can be installed with: pip install joblib. If this warning is raised when loading pickled models, you may need to re-serialize those models with scikit-learn 0.21+.\n",
      "  warnings.warn(msg, category=DeprecationWarning)\n"
     ]
    }
   ],
   "source": [
    "from flask import Flask, jsonify, request, render_template\n",
    "import pandas as pd\n",
    "import numpy as np\n",
    "import json\n",
    "import pickle\n",
    "\n",
    "\n",
    "from sklearn.preprocessing import LabelEncoder, OneHotEncoder\n",
    "from sklearn.compose import ColumnTransformer\n",
    "from sklearn.preprocessing import StandardScaler"
   ]
  },
  {
   "cell_type": "code",
   "execution_count": 2,
   "metadata": {},
   "outputs": [],
   "source": [
    "import flask\n",
    "\n",
    "app = Flask(__name__)\n",
    "\n",
    "main_cols = pickle.load(open(\"columns.pkl\", 'rb'))\n"
   ]
  },
  {
   "cell_type": "code",
   "execution_count": 3,
   "metadata": {},
   "outputs": [],
   "source": [
    "def clean_data(df_x):\n",
    "    le = LabelEncoder()\n",
    "    df_x.Gender = le.fit_transform(df_x.Gender)\n",
    "    df_x = pd.get_dummies(data = df_x,  columns=[\"Geography\"], drop_first = False)\n",
    "    return df_x"
   ]
  },
  {
   "cell_type": "code",
   "execution_count": 4,
   "metadata": {},
   "outputs": [],
   "source": [
    "def standardize_data(dta):\n",
    "    scaler = pickle.load(open(\"std_scaler.pkl\", 'rb'))\n",
    "    X_transformed = scaler.transform(dta)\n",
    "    return X_transformed"
   ]
  },
  {
   "cell_type": "code",
   "execution_count": 5,
   "metadata": {},
   "outputs": [],
   "source": [
    "@app.route('/')\n",
    "def home():\n",
    "    return render_template('index.html')\n"
   ]
  },
  {
   "cell_type": "code",
   "execution_count": 6,
   "metadata": {},
   "outputs": [],
   "source": [
    "@app.route('/predict', methods=['POST'])\n",
    "def predict():\n",
    "    \n",
    "    form_data = request.form.to_dict()\n",
    "    print(\"form_data yazdırılıyor ******************************\")\n",
    "    print(form_data)\n",
    "    df_input = pd.DataFrame.from_records([form_data])\n",
    "    df_input = pd.DataFrame(df_input)\n",
    "    \n",
    "    sample_df = pd.DataFrame(columns = main_cols)\n",
    "    clean_df = clean_data(df_input)\n",
    "    main_df = sample_df.append(clean_df,sort=False)\n",
    "    main_df = main_df.fillna(0)\n",
    "    print(main_df)\n",
    "    \n",
    "    \n",
    "    std_df = standardize_data(main_df)\n",
    "    print(\"std_df yazdırılıyor ******************************\")\n",
    "    print(std_df)\n",
    "    \n",
    "    clf = pickle.load(open('model.pkl', 'rb'))\n",
    "    pred = clf.predict_proba(std_df)\n",
    "    \n",
    "    print(\"pred yazdırılıyor ******************************\")\n",
    "    print(pred)\n",
    "    #x = round(pred*100, 2)\n",
    "    x = pred[0]*100\n",
    "    \n",
    "    return render_template('index.html', predicted_value=\"Customer Churn rate: {}\".format(x))"
   ]
  },
  {
   "cell_type": "code",
   "execution_count": null,
   "metadata": {},
   "outputs": [],
   "source": [
    "if __name__ == '__main__':\n",
    "    app.run(debug=True)"
   ]
  },
  {
   "cell_type": "code",
   "execution_count": null,
   "metadata": {},
   "outputs": [],
   "source": []
  }
 ],
 "metadata": {
  "kernelspec": {
   "display_name": "Python 3",
   "language": "python",
   "name": "python3"
  },
  "language_info": {
   "codemirror_mode": {
    "name": "ipython",
    "version": 3
   },
   "file_extension": ".py",
   "mimetype": "text/x-python",
   "name": "python",
   "nbconvert_exporter": "python",
   "pygments_lexer": "ipython3",
   "version": "3.7.4"
  }
 },
 "nbformat": 4,
 "nbformat_minor": 2
}
